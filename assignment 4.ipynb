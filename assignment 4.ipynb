{
 "cells": [
  {
   "cell_type": "code",
   "execution_count": 1,
   "id": "46d5ed91-9653-4961-aa10-3c31357fb976",
   "metadata": {},
   "outputs": [],
   "source": [
    "# Q1. Explain Class and Object with respect to Object-Oriented Programming. Give a suitable example."
   ]
  },
  {
   "cell_type": "code",
   "execution_count": 2,
   "id": "3feb1197-418b-40dc-865f-62cc17109327",
   "metadata": {},
   "outputs": [],
   "source": [
    "# In Python, a class is a blueprint for creating objects. It defines the structure and behavior of an object, including its attributes (variables) and methods (functions).\n",
    "# In Python, an object is a specific instance of a class. It is created based on the blueprint defined by the class .\n",
    "class pwskills:\n",
    "    def __init__(self, a, b):\n",
    "        self.a = a\n",
    "        self.b = b\n",
    "\n",
    "    def saif(self):\n",
    "        print(f\"This car is  {self.a} {self.b}.\")"
   ]
  },
  {
   "cell_type": "code",
   "execution_count": 3,
   "id": "ffc61b3b-6f38-42e8-a558-b91950b3f8bd",
   "metadata": {},
   "outputs": [],
   "source": [
    "# Creating objects (instances) of the Car class\n",
    "u = pwskills('so','big')\n",
    "v = pwskills('so','small')"
   ]
  },
  {
   "cell_type": "code",
   "execution_count": 4,
   "id": "7246e0e6-03e5-4d16-b9c9-3765137ab09a",
   "metadata": {},
   "outputs": [
    {
     "name": "stdout",
     "output_type": "stream",
     "text": [
      "This car is  so big.\n",
      "This car is  so small.\n"
     ]
    }
   ],
   "source": [
    "# Calling methods on the objects\n",
    "u.saif()\n",
    "v.saif()"
   ]
  },
  {
   "cell_type": "code",
   "execution_count": 5,
   "id": "b2fd3619-0592-4dc2-90b6-c0ab614c416e",
   "metadata": {},
   "outputs": [],
   "source": [
    "# Q2.Name the four pillars of OOPS."
   ]
  },
  {
   "cell_type": "code",
   "execution_count": 6,
   "id": "4b237306-c8f1-45c8-a612-20f8969a751a",
   "metadata": {},
   "outputs": [],
   "source": [
    "# Answer = The name of the four pillars in opps is Encapsulation , polymorphism,inheritance and abstraction..."
   ]
  },
  {
   "cell_type": "code",
   "execution_count": 7,
   "id": "dccad164-8ea9-4148-91a4-9c8e61084dc1",
   "metadata": {},
   "outputs": [],
   "source": [
    "# Q3. Explain why the __init__() function is used. Give a suitable example."
   ]
  },
  {
   "cell_type": "code",
   "execution_count": 8,
   "id": "2ca31ce0-4561-4444-8bed-eb430cb70c23",
   "metadata": {},
   "outputs": [],
   "source": [
    "# The __init__() function in Python is used as a constructor method for initializing the attributes of an object when it is created from a \n",
    "# class. It is automatically called whenever a new instance of the class is instantiated....\n",
    "#                                                              Or \n",
    "# The __init__() function in Python is used as a constructor method for initializing the attributes of an object when it is created from a \n",
    "# class. It is automatically called (whenever a new object of the class is created.)\n",
    "class saif() :\n",
    "    def __init__(self,phone,email,s_id) :\n",
    "        self.phone = phone\n",
    "        self.email = email\n",
    "        self.s_id = s_id\n",
    "    def abbasi(self) :\n",
    "        return self.phone,self.email,self.s_id\n",
    "    def khan(self) :\n",
    "        return self.phone,self.email"
   ]
  },
  {
   "cell_type": "code",
   "execution_count": 9,
   "id": "a4261a09-25b9-426a-bbb7-354ae3302c29",
   "metadata": {},
   "outputs": [],
   "source": [
    "a = saif(1198896,'saifabbasi111@gmail.com',101)"
   ]
  },
  {
   "cell_type": "code",
   "execution_count": 10,
   "id": "865c1c36-787f-44f5-a4a8-b6f5a53d77d3",
   "metadata": {},
   "outputs": [
    {
     "data": {
      "text/plain": [
       "(1198896, 'saifabbasi111@gmail.com', 101)"
      ]
     },
     "execution_count": 10,
     "metadata": {},
     "output_type": "execute_result"
    }
   ],
   "source": [
    "a.abbasi()"
   ]
  },
  {
   "cell_type": "code",
   "execution_count": 11,
   "id": "c4afaa8d-3d1b-4c7a-9cc0-d93b3d73d95c",
   "metadata": {},
   "outputs": [
    {
     "data": {
      "text/plain": [
       "(1198896, 'saifabbasi111@gmail.com')"
      ]
     },
     "execution_count": 11,
     "metadata": {},
     "output_type": "execute_result"
    }
   ],
   "source": [
    "a.khan()"
   ]
  },
  {
   "cell_type": "code",
   "execution_count": 12,
   "id": "0a876e41-9167-470d-a92f-48b3d62da5d2",
   "metadata": {},
   "outputs": [],
   "source": [
    "# Q4. Why self is used in OOPS?"
   ]
  },
  {
   "cell_type": "code",
   "execution_count": 13,
   "id": "b8ebcb2c-cdc8-43bd-92cf-7e8a117eb33c",
   "metadata": {},
   "outputs": [],
   "source": [
    "#Answer =  By using \"self,\" you can access and modify the attributes of the object that the method is being called on...\n",
    "# When you define a class and create instances of that class, the self parameter allows you to access the attributes and methods specific\n",
    "# to each individual instance....."
   ]
  },
  {
   "cell_type": "code",
   "execution_count": 14,
   "id": "eb9ff84b-60d6-4051-96aa-46bcb30962e2",
   "metadata": {},
   "outputs": [],
   "source": [
    "# Q5. What is inheritance? Give an example for each type of inheritance."
   ]
  },
  {
   "cell_type": "code",
   "execution_count": 15,
   "id": "f4c6fd7b-c06a-4752-aa94-30f2b4051d15",
   "metadata": {},
   "outputs": [],
   "source": [
    "# Answer = Inheritance is a machanism in which one class inherits the property of other claass / one class access of other class.... \n",
    "# There are 5 types of inheritance :-\n",
    "# 1.single and simple \n",
    "# 2.multi-level\n",
    "# 3.multiple\n",
    "# 4.hierarchical \n",
    "# 5.hybrid"
   ]
  },
  {
   "cell_type": "code",
   "execution_count": null,
   "id": "aa534fb6-e1c7-41d4-8e5d-b02c3da50f37",
   "metadata": {},
   "outputs": [],
   "source": []
  }
 ],
 "metadata": {
  "kernelspec": {
   "display_name": "Python 3 (ipykernel)",
   "language": "python",
   "name": "python3"
  },
  "language_info": {
   "codemirror_mode": {
    "name": "ipython",
    "version": 3
   },
   "file_extension": ".py",
   "mimetype": "text/x-python",
   "name": "python",
   "nbconvert_exporter": "python",
   "pygments_lexer": "ipython3",
   "version": "3.10.8"
  }
 },
 "nbformat": 4,
 "nbformat_minor": 5
}
